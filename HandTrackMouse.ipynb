{
 "cells": [
  {
   "cell_type": "code",
   "execution_count": 57,
   "metadata": {},
   "outputs": [],
   "source": [
    "import cv2\n",
    "import mediapipe as mp\n",
    "import pyautogui\n",
    "from pynput.mouse import Button, Controller\n",
    "import numpy as np\n",
    "import time  "
   ]
  },
  {
   "cell_type": "code",
   "execution_count": 58,
   "metadata": {},
   "outputs": [],
   "source": [
    "# Mouse control setup\n",
    "mouse = Controller()\n",
    "\n",
    "# Screen dimensions\n",
    "screen_width, screen_height = pyautogui.size()"
   ]
  },
  {
   "cell_type": "code",
   "execution_count": 59,
   "metadata": {},
   "outputs": [],
   "source": [
    "# Initialize MediaPipe hands module\n",
    "mpHands = mp.solutions.hands\n",
    "hands = mpHands.Hands(\n",
    "    static_image_mode=False,\n",
    "    model_complexity=1,\n",
    "    min_detection_confidence=0.7,\n",
    "    min_tracking_confidence=0.8,\n",
    "    max_num_hands=1\n",
    ")"
   ]
  },
  {
   "cell_type": "code",
   "execution_count": 60,
   "metadata": {},
   "outputs": [],
   "source": [
    "# Function to calculate the angle between three points\n",
    "def get_angle(a, b, c):\n",
    "    radians = np.arctan2(c[1] - b[1], c[0] - b[0]) - np.arctan2(a[1] - b[1], a[0] - b[0])\n",
    "    return np.abs(np.degrees(radians))\n",
    "\n",
    "# Function to calculate the distance between two points\n",
    "def get_distance(landmark_list):\n",
    "    if len(landmark_list) < 2:\n",
    "        return\n",
    "    (x1, y1), (x2, y2) = landmark_list[0], landmark_list[1]\n",
    "    return np.interp(np.hypot(x2 - x1, y2 - y1), [0, 1], [0, 1000])\n",
    "\n",
    "# Function to get the index finger tip position\n",
    "def find_finger_tip(processed):\n",
    "    if processed.multi_hand_landmarks:\n",
    "        hand_landmarks = processed.multi_hand_landmarks[0]\n",
    "        return hand_landmarks.landmark[mpHands.HandLandmark.INDEX_FINGER_TIP]\n",
    "    return None"
   ]
  },
  {
   "cell_type": "code",
   "execution_count": 61,
   "metadata": {},
   "outputs": [],
   "source": [
    "# Function to move the mouse cursor based on the finger position\n",
    "def move_mouse(index_finger_tip):\n",
    "    if index_finger_tip is not None:\n",
    "        # Get the screen size\n",
    "        screen_width, screen_height = pyautogui.size()\n",
    "        \n",
    "        # Calculate the position of the cursor based on the finger's position\n",
    "        x = int(index_finger_tip.x * screen_width)\n",
    "        y = int(index_finger_tip.y * screen_height)  # No division by 2 to use the full screen height\n",
    "        \n",
    "        # Ensure that the mouse position is within screen bounds\n",
    "        x = max(0, min(x, screen_width - 1))\n",
    "        y = max(0, min(y, screen_height - 1))\n",
    "        \n",
    "        # Move the mouse to the calculated position\n",
    "        pyautogui.moveTo(x, y, duration=0.1)  # Added a duration for smoother movement"
   ]
  },
  {
   "cell_type": "code",
   "execution_count": 62,
   "metadata": {},
   "outputs": [],
   "source": [
    "\n",
    "# Functions to detect different mouse clicks\n",
    "def is_left_click(landmark_list, thumb_index_dist):\n",
    "    return (\n",
    "            get_angle(landmark_list[5], landmark_list[6], landmark_list[8]) < 50 and\n",
    "            get_angle(landmark_list[9], landmark_list[10], landmark_list[12]) > 90 and\n",
    "            thumb_index_dist > 50\n",
    "    )\n",
    "\n",
    "def is_right_click(landmark_list, thumb_index_dist):\n",
    "    return (\n",
    "            get_angle(landmark_list[9], landmark_list[10], landmark_list[12]) < 50 and\n",
    "            get_angle(landmark_list[5], landmark_list[6], landmark_list[8]) > 90 and\n",
    "            thumb_index_dist > 50\n",
    "    )\n",
    "\n",
    "def is_double_click(landmark_list, thumb_index_dist):\n",
    "    return (\n",
    "            get_angle(landmark_list[5], landmark_list[6], landmark_list[8]) < 50 and\n",
    "            get_angle(landmark_list[9], landmark_list[10], landmark_list[12]) < 50 and\n",
    "            thumb_index_dist > 50\n",
    "    )"
   ]
  },
  {
   "cell_type": "code",
   "execution_count": 63,
   "metadata": {},
   "outputs": [],
   "source": [
    "# Function to detect gestures and perform actions\n",
    "def detect_gesture(frame, landmark_list, processed):\n",
    "    if len(landmark_list) >= 21:\n",
    "        index_finger_tip = find_finger_tip(processed)\n",
    "        thumb_index_dist = get_distance([landmark_list[4], landmark_list[5]])\n",
    "\n",
    "        if get_distance([landmark_list[4], landmark_list[5]]) < 50 and get_angle(landmark_list[5], landmark_list[6], landmark_list[8]) > 90:\n",
    "            move_mouse(index_finger_tip)\n",
    "        elif is_left_click(landmark_list, thumb_index_dist):\n",
    "            mouse.press(Button.left)\n",
    "            mouse.release(Button.left)\n",
    "            cv2.putText(frame, \"Left Click\", (50, 50), cv2.FONT_HERSHEY_SIMPLEX, 1, (0, 255, 0), 2)\n",
    "            time.sleep(1)  # Delay of 1 second between clicks\n",
    "        elif is_right_click(landmark_list, thumb_index_dist):\n",
    "            mouse.press(Button.right)\n",
    "            mouse.release(Button.right)\n",
    "            cv2.putText(frame, \"Right Click\", (50, 50), cv2.FONT_HERSHEY_SIMPLEX, 1, (0, 0, 255), 2)\n",
    "            time.sleep(1)  # Delay of 1 second between clicks\n",
    "        elif is_double_click(landmark_list, thumb_index_dist):\n",
    "            pyautogui.doubleClick()\n",
    "            cv2.putText(frame, \"Double Click\", (50, 50), cv2.FONT_HERSHEY_SIMPLEX, 1, (255, 255, 0), 2)\n",
    "            time.sleep(1)  # Delay of 1 second between clicks"
   ]
  },
  {
   "cell_type": "code",
   "execution_count": 56,
   "metadata": {},
   "outputs": [],
   "source": [
    "# Main function to capture video and process gestures\n",
    "def main():\n",
    "    draw = mp.solutions.drawing_utils\n",
    "    cap = cv2.VideoCapture(0)\n",
    "\n",
    "    try:\n",
    "        while cap.isOpened():\n",
    "            ret, frame = cap.read()\n",
    "            if not ret:\n",
    "                break\n",
    "            frame = cv2.flip(frame, 1)\n",
    "            frameRGB = cv2.cvtColor(frame, cv2.COLOR_BGR2RGB)\n",
    "            processed = hands.process(frameRGB)\n",
    "\n",
    "            landmark_list = []\n",
    "            if processed.multi_hand_landmarks:\n",
    "                hand_landmarks = processed.multi_hand_landmarks[0]\n",
    "                draw.draw_landmarks(frame, hand_landmarks, mpHands.HAND_CONNECTIONS)\n",
    "                for lm in hand_landmarks.landmark:\n",
    "                    landmark_list.append((lm.x, lm.y))\n",
    "\n",
    "            detect_gesture(frame, landmark_list, processed)\n",
    "\n",
    "            cv2.imshow('Frame', frame)\n",
    "            if cv2.waitKey(1) & 0xFF == ord('q'):\n",
    "                break\n",
    "    finally:\n",
    "        cap.release()\n",
    "        cv2.destroyAllWindows()\n",
    "\n",
    "if __name__ == '__main__':\n",
    "    main()\n"
   ]
  }
 ],
 "metadata": {
  "kernelspec": {
   "display_name": "Python 3",
   "language": "python",
   "name": "python3"
  },
  "language_info": {
   "codemirror_mode": {
    "name": "ipython",
    "version": 3
   },
   "file_extension": ".py",
   "mimetype": "text/x-python",
   "name": "python",
   "nbconvert_exporter": "python",
   "pygments_lexer": "ipython3",
   "version": "3.12.1"
  }
 },
 "nbformat": 4,
 "nbformat_minor": 2
}
